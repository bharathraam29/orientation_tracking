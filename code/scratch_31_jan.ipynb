{
 "cells": [
  {
   "cell_type": "code",
   "execution_count": 1,
   "id": "67407fbf-e244-4b07-8a09-54b992211760",
   "metadata": {},
   "outputs": [],
   "source": [
    "%load_ext autoreload\n",
    "%autoreload 2"
   ]
  },
  {
   "cell_type": "code",
   "execution_count": 2,
   "id": "a8df0338-f3ab-477f-b61d-c575487dd398",
   "metadata": {},
   "outputs": [],
   "source": [
    "import sys\n",
    "sys.path.insert(0,'/home/bradhakrishnan/ECE276A_PR1/code/')"
   ]
  },
  {
   "cell_type": "code",
   "execution_count": 3,
   "id": "8b069ddf-b560-464e-946d-223ccd611921",
   "metadata": {},
   "outputs": [
    {
     "name": "stdout",
     "output_type": "stream",
     "text": [
      "Data import took: 0.007933855056762695 sec.\n",
      "\n"
     ]
    }
   ],
   "source": [
    "import motion_calibration\n",
    "import grad_descent\n",
    "import load_data\n",
    "\n",
    "imud, vicd, camd= load_data.load_dataset(1)"
   ]
  },
  {
   "cell_type": "code",
   "execution_count": 14,
   "id": "8887f450-5a95-4137-aaf2-f0595880f469",
   "metadata": {
    "scrolled": true
   },
   "outputs": [
    {
     "data": {
      "text/plain": [
       "Array([-508.55022143, -497.11727192,  583.16775908,  373.73906112,\n",
       "        375.59007972,  370.03454384], dtype=float64)"
      ]
     },
     "execution_count": 14,
     "metadata": {},
     "output_type": "execute_result"
    }
   ],
   "source": [
    "imud[1,:300].mean()\n",
    "\n",
    "jnp.mean(imud[1:,:], axis=1)"
   ]
  },
  {
   "cell_type": "code",
   "execution_count": 13,
   "id": "75c3f8e8-c639-4c15-afcc-b2df4b592451",
   "metadata": {
    "scrolled": true
   },
   "outputs": [
    {
     "name": "stdout",
     "output_type": "stream",
     "text": [
      "Dataset 1 :: \n",
      "\n",
      "Data import took: 0.012166023254394531 sec.\n",
      "\n",
      "Dataset 1 :: \n",
      "\n",
      "Data import took: 0.008359193801879883 sec.\n",
      "\n",
      "[-508.55022143 -497.11727192  583.16775908  373.73906112  375.59007972\n",
      "  370.03454384]\n"
     ]
    }
   ],
   "source": [
    "import jax\n",
    "import jax.numpy as jnp\n",
    "import quaternion_ops as qops \n",
    "jax.config.update(\"jax_enable_x64\", True)\n",
    "\n",
    "calibrated_imu= motion_calibration.calibrate_v2(1,300)\n",
    "# calibrated_imu[1:4, :] = jnp.multiply(calibrated_imu[1:4, :] , jnp.array([-1, -1, 1])[:, jnp.newaxis])\n"
   ]
  },
  {
   "cell_type": "code",
   "execution_count": null,
   "id": "f53249ae-a741-45dc-8f15-cbd78c6fa416",
   "metadata": {},
   "outputs": [],
   "source": []
  },
  {
   "cell_type": "code",
   "execution_count": 5,
   "id": "fae2b024-0c2e-41d8-981b-ea22eed19962",
   "metadata": {},
   "outputs": [],
   "source": [
    "qts = jnp.zeros((4, calibrated_imu.shape[1]), dtype=jnp.float64)\n",
    "qts = qts.at[0, 0].set(1)"
   ]
  },
  {
   "cell_type": "code",
   "execution_count": 6,
   "id": "7c59c10d-723d-48b4-92d0-41a92bd57975",
   "metadata": {},
   "outputs": [],
   "source": [
    "del_t= (calibrated_imu[0,1:]-calibrated_imu[0,:-1])\n",
    "w_vec= calibrated_imu[4:,:]"
   ]
  },
  {
   "cell_type": "code",
   "execution_count": 9,
   "id": "32c3dd5e-a40e-476e-b9a2-1a7a60b05ad4",
   "metadata": {},
   "outputs": [],
   "source": [
    "exp_vec = jax.vmap(qops.qexp, in_axes=(1), out_axes=1)\n",
    "exp_terms=exp_vec(jnp.vstack((jnp.zeros(w_vec.shape[1]-1), del_t*w_vec[:, :-1]/2)))\n"
   ]
  },
  {
   "cell_type": "code",
   "execution_count": null,
   "id": "82aecfda-3618-4fda-bb9a-aacb43391667",
   "metadata": {},
   "outputs": [],
   "source": []
  },
  {
   "cell_type": "code",
   "execution_count": 69,
   "id": "a90c15c5-b9ae-446d-bf6c-ba63f03eab50",
   "metadata": {},
   "outputs": [],
   "source": [
    "def motion_model(w_vec, qts, del_t):\n",
    "    exp_vec = jax.vmap(qops.qexp, in_axes=(1), out_axes=1)\n",
    "    exp_terms=exp_vec(jnp.vstack((jnp.zeros(w_vec.shape[1]-1), del_t*w_vec[:, :-1]/2)))\n",
    "    for i in range(w_vec.shape[1]-1):\n",
    "        qts = qts.at[:, i+1].set(qops.qmult(qts[:, i], exp_terms[:, i]))\n",
    "    return qts, exp_terms\n",
    "\n",
    "def motion_model_vec(qt,exp_term):\n",
    "    return qops.qmult(qt, exp_term)\n",
    "    "
   ]
  },
  {
   "cell_type": "code",
   "execution_count": 70,
   "id": "95ba216a-9a62-4cd6-86be-6d27d53c869f",
   "metadata": {
    "scrolled": true
   },
   "outputs": [
    {
     "ename": "NameError",
     "evalue": "name 'epoch' is not defined",
     "output_type": "error",
     "traceback": [
      "\u001b[0;31m---------------------------------------------------------------------------\u001b[0m",
      "\u001b[0;31mNameError\u001b[0m                                 Traceback (most recent call last)",
      "Cell \u001b[0;32mIn[70], line 1\u001b[0m\n\u001b[0;32m----> 1\u001b[0m grad_descent\u001b[38;5;241m.\u001b[39mplt_graph_imu(calibrated_imu, qts, \u001b[43mepoch\u001b[49m)\n",
      "\u001b[0;31mNameError\u001b[0m: name 'epoch' is not defined"
     ]
    }
   ],
   "source": [
    "grad_descent.plt_graph_imu(calibrated_imu, qts, epoch)"
   ]
  },
  {
   "cell_type": "code",
   "execution_count": 144,
   "id": "d7c82a48-1db9-4809-bfcd-20bff13ab417",
   "metadata": {},
   "outputs": [],
   "source": [
    "qts,exp_terms= motion_model(w_vec, qts, del_t)"
   ]
  },
  {
   "cell_type": "code",
   "execution_count": 76,
   "id": "a6347018-996b-4f4b-b5c9-68d7d84b98bb",
   "metadata": {},
   "outputs": [],
   "source": [
    "linear_acc= jnp.vstack((jnp.zeros(w_vec.shape[1]), calibrated_imu[1:4,:]))"
   ]
  },
  {
   "cell_type": "code",
   "execution_count": 77,
   "id": "d5c2e325-8628-4f4a-b6be-2e970f0b908c",
   "metadata": {},
   "outputs": [
    {
     "ename": "NameError",
     "evalue": "name 'exp_terms' is not defined",
     "output_type": "error",
     "traceback": [
      "\u001b[0;31m---------------------------------------------------------------------------\u001b[0m",
      "\u001b[0;31mNameError\u001b[0m                                 Traceback (most recent call last)",
      "Cell \u001b[0;32mIn[77], line 9\u001b[0m\n\u001b[1;32m      7\u001b[0m fts\u001b[38;5;241m=\u001b[39m jax\u001b[38;5;241m.\u001b[39mvmap(motion_model_vec, in_axes\u001b[38;5;241m=\u001b[39m(\u001b[38;5;241m1\u001b[39m,\u001b[38;5;241m1\u001b[39m), out_axes\u001b[38;5;241m=\u001b[39m\u001b[38;5;241m1\u001b[39m)\n\u001b[1;32m      8\u001b[0m obs_model_ops\u001b[38;5;241m=\u001b[39m hts(qts)\n\u001b[0;32m----> 9\u001b[0m motion_model_ops\u001b[38;5;241m=\u001b[39m fts(qts[:, :\u001b[38;5;241m-\u001b[39m\u001b[38;5;241m1\u001b[39m], \u001b[43mexp_terms\u001b[49m)\n",
      "\u001b[0;31mNameError\u001b[0m: name 'exp_terms' is not defined"
     ]
    }
   ],
   "source": [
    "\n",
    "    # return qops.qmult(qops.qmult(qops.qinverse(q), jnp.array([0., 0., 0., 1.0])),q)\n",
    "\n",
    "\n",
    "hts= jax.vmap(obs_model, in_axes=(1), out_axes=1)\n",
    "fts= jax.vmap(motion_model_vec, in_axes=(1,1), out_axes=1)\n",
    "obs_model_ops= hts(qts)\n",
    "motion_model_ops= fts(qts[:, :-1], exp_terms)"
   ]
  },
  {
   "cell_type": "markdown",
   "id": "fcecb136-933d-4a5d-9268-e6622847ce73",
   "metadata": {},
   "source": [
    "# Grad descent"
   ]
  },
  {
   "cell_type": "code",
   "execution_count": 69,
   "id": "1d8e9622-33d4-4a40-bed6-683e21f31d8d",
   "metadata": {},
   "outputs": [
    {
     "data": {
      "text/plain": [
       "((4, 5645), (4, 5644))"
      ]
     },
     "execution_count": 69,
     "metadata": {},
     "output_type": "execute_result"
    }
   ],
   "source": [
    "qts.shape , exp_terms.shape"
   ]
  },
  {
   "cell_type": "code",
   "execution_count": null,
   "id": "5ba3c2b7-a9e6-4941-8341-138dfa4dbfa3",
   "metadata": {},
   "outputs": [],
   "source": []
  },
  {
   "cell_type": "code",
   "execution_count": 74,
   "id": "15f98a35-0b68-4a8d-94b7-1a3adc485375",
   "metadata": {},
   "outputs": [],
   "source": [
    "def compute_rot_error(qt_1, ft):\n",
    "    return  jnp.pow(2 * (jnp.linalg.norm(qops.qlog(qops.qmult(qops.qinverse(qt_1), ft)))), 2)\n",
    "\n",
    "def compute_pos_error(at, ht):\n",
    "    return jnp.pow(jnp.linalg.norm(at-ht),2)\n",
    "\n",
    "rot_error_vec = jax.vmap(compute_rot_error, in_axes=(1, 1))\n",
    "# rot_error_vec(qts[:,1:],fts(qts[:,:-1],exp_terms)).sum()\n",
    "\n",
    "pos_error_vec= jax.vmap(compute_pos_error, in_axes=(1,1))\n",
    "# pos_error_vec(linear_acc[:,1:],hts(qts[:,1:])).sum()\n",
    "\n",
    "\n",
    "def compute_cost(qts,linear_acc,exp_terms, rot_error_vec=jax.vmap(compute_rot_error, in_axes=(1, 1)), pos_error_vec=jax.vmap(compute_pos_error, in_axes=(1,1))):\n",
    "    return 0.5*(rot_error_vec(qts[:,1:],fts(qts[:,:-1],exp_terms)).sum()+pos_error_vec(linear_acc[:,1:],hts(qts[:,1:])).sum())\n",
    "\n",
    "def normalize_q(q,epsilon=1e-6):\n",
    "    norm= jnp.linalg.norm(q)\n",
    "    return q/norm\n",
    "normalized_vec= jax.vmap(normalize_q, in_axes=(1), out_axes=1)\n"
   ]
  },
  {
   "cell_type": "code",
   "execution_count": 126,
   "id": "9de69f79-3184-4246-ad49-5ba1310dda9e",
   "metadata": {},
   "outputs": [
    {
     "data": {
      "text/plain": [
       "Array(326219.7343601, dtype=float64)"
      ]
     },
     "execution_count": 126,
     "metadata": {},
     "output_type": "execute_result"
    }
   ],
   "source": [
    "compute_cost(qts, linear_acc)"
   ]
  },
  {
   "cell_type": "code",
   "execution_count": 76,
   "id": "8a048ef7-6caa-437d-b3b9-24499e61a25e",
   "metadata": {},
   "outputs": [],
   "source": []
  },
  {
   "cell_type": "code",
   "execution_count": null,
   "id": "49bea57d-ac24-456d-8d74-7cf0e0d6d0d5",
   "metadata": {},
   "outputs": [],
   "source": []
  },
  {
   "cell_type": "code",
   "execution_count": 6,
   "id": "5d3a00c3-e994-4ed3-ab8b-d1d19859384d",
   "metadata": {},
   "outputs": [],
   "source": [
    "import quaternion_ops as qops\n",
    "import transforms3d as t3d\n",
    "\n",
    "\n",
    "def motion_model_rollover(calibrated_imu):\n",
    "    pred_qts= [jnp.array([1,0,0,0])]\n",
    "    exp_vals=[]\n",
    "    for idx in range(0,calibrated_imu.shape[1]-1):\n",
    "        exp_term= calibrated_imu[4:,idx]* (calibrated_imu[0,idx+1]- calibrated_imu[0,idx])/2\n",
    "        exp_val= t3d.quaternions.qexp(jnp.concatenate((jnp.array([0]),exp_term)))\n",
    "        exp_vals.append(exp_val)\n",
    "        pred_qts.append(t3d.quaternions.qmult(pred_qts[idx],exp_val))\n",
    "    pred_qts= jnp.column_stack(pred_qts)\n",
    "    exp_vals=jnp.column_stack(exp_vals)\n",
    "    return pred_qts, exp_vals"
   ]
  },
  {
   "cell_type": "code",
   "execution_count": 7,
   "id": "21c28b5b-d31d-4e1b-9ef0-afd91a026468",
   "metadata": {},
   "outputs": [],
   "source": [
    "qts,exp_vals= motion_model_rollover(calibrated_imu)"
   ]
  },
  {
   "cell_type": "code",
   "execution_count": 17,
   "id": "4037dc2b-f0a0-4f02-be42-45ea248a2e76",
   "metadata": {},
   "outputs": [
    {
     "data": {
      "text/plain": [
       "(4, 5645)"
      ]
     },
     "execution_count": 17,
     "metadata": {},
     "output_type": "execute_result"
    }
   ],
   "source": [
    "linear_acc= jnp.vstack((jnp.zeros(calibrated_imu.shape[1]), calibrated_imu[1:4,:]))\n",
    "linear_acc.shape"
   ]
  },
  {
   "cell_type": "code",
   "execution_count": 49,
   "id": "cdc0d929-b4e4-46d3-a010-395b887c40ac",
   "metadata": {},
   "outputs": [],
   "source": [
    "def obs_model(q):\n",
    "    return qops.qmult(qops.qinverse(q),qops.qmult(jnp.array([0., 0., 0., -9.8]),q))\n",
    "\n",
    "def motion_model(q,exp):\n",
    "    return qops.qmult(q, exp)\n",
    "\n",
    "def rotation_err(qt_1, ft):\n",
    "    return jnp.linalg.norm(2*qops.qlog(qops.qmult(qops.qinverse(qt_1), ft))) **2\n",
    "\n",
    "def position_err(at, ht):\n",
    "    return jnp.linalg.norm(at-ht) **2\n",
    "\n",
    "hts= jax.vmap(obs_model, in_axes=(1), out_axes=1)\n",
    "fts= jax.vmap(motion_model, in_axes=(1,1), out_axes=1)\n",
    "\n",
    "rot_error_vec=jax.vmap(rotation_err, in_axes=(1,1))\n",
    "pos_error_vec= jax.vmap(position_err, in_axes=(1,1))\n",
    "\n"
   ]
  },
  {
   "cell_type": "code",
   "execution_count": 46,
   "id": "c757689a-2c8b-4aec-a20b-4be3d500d1da",
   "metadata": {},
   "outputs": [
    {
     "data": {
      "text/plain": [
       "Array(1., dtype=float64)"
      ]
     },
     "execution_count": 46,
     "metadata": {},
     "output_type": "execute_result"
    }
   ],
   "source": [
    "jnp.linalg.norm(qts[:,1])"
   ]
  },
  {
   "cell_type": "code",
   "execution_count": 42,
   "id": "227e8390-82bb-49a3-ab9f-b5bfd8075356",
   "metadata": {},
   "outputs": [
    {
     "data": {
      "text/plain": [
       "(4, 5644)"
      ]
     },
     "execution_count": 42,
     "metadata": {},
     "output_type": "execute_result"
    }
   ],
   "source": [
    "fts(qts[:,:-1], exp_vals).shape"
   ]
  },
  {
   "cell_type": "code",
   "execution_count": 57,
   "id": "0fdf2844-dd1a-4ac9-ad62-0a29c8cb20e7",
   "metadata": {},
   "outputs": [],
   "source": [
    "def vector_normalize(q):\n",
    "    return q/ jnp.linalg.norm(q)\n",
    "    \n",
    "def cost_fn(qts, linear_acc, exp_vals):\n",
    "    return (pos_error_vec(linear_acc[:,1:], hts(qts[:,1:])).sum()+rot_error_vec(qts[:,1:],fts(qts[:,:-1], exp_vals)).sum())/2"
   ]
  },
  {
   "cell_type": "code",
   "execution_count": null,
   "id": "2265ad3b-f5d2-4200-9e19-e7ff38db1065",
   "metadata": {},
   "outputs": [
    {
     "name": "stderr",
     "output_type": "stream",
     "text": [
      " 69%|██████▉   | 345/500 [01:25<00:39,  3.97it/s]"
     ]
    }
   ],
   "source": [
    "from tqdm import tqdm\n",
    "norm_vec= jax.vmap(vector_normalize, in_axes=(1),out_axes=1)\n",
    "grads=[]\n",
    "\n",
    "pred_qts= qts\n",
    "step_size= 0.025\n",
    "epochs=500\n",
    "epsilon= 1e-9\n",
    "for epoch in tqdm(range(epochs)):\n",
    "    cost=cost_fn(pred_qts,linear_acc,exp_vals)\n",
    "    grad= jax.jacrev(cost_fn)(pred_qts,linear_acc,exp_vals)\n",
    "    pred_qts=norm_vec(pred_qts- (grad*step_size))\n",
    "    grads.append(cost)"
   ]
  },
  {
   "cell_type": "code",
   "execution_count": null,
   "id": "21a4c057-2baa-4e6e-8ca3-615bf419690c",
   "metadata": {},
   "outputs": [],
   "source": []
  },
  {
   "cell_type": "code",
   "execution_count": 8,
   "id": "7f41dc0e-75f2-4939-b5b4-c35932c13671",
   "metadata": {},
   "outputs": [],
   "source": [
    "pred_roll=[0]* calibrated_imu.shape[-1]\n",
    "pred_pitch=[0]*  calibrated_imu.shape[-1] \n",
    "pred_yaw =[0]* calibrated_imu.shape[-1]\n",
    "\n",
    "for idx in range(0,calibrated_imu.shape[-1]):    \n",
    "    pred_roll[idx], pred_pitch[idx], pred_yaw[idx] = jnp.array(\n",
    "t3d.euler.quat2euler(qts[:, idx], 'sxyz')\n",
    ") * (180 / jnp.pi)"
   ]
  },
  {
   "cell_type": "code",
   "execution_count": 10,
   "id": "addb2371-83e6-48a5-bbc0-c8a91c8fd2ec",
   "metadata": {},
   "outputs": [
    {
     "data": {
      "text/plain": [
       "[<matplotlib.lines.Line2D at 0x7f697c418e10>]"
      ]
     },
     "execution_count": 10,
     "metadata": {},
     "output_type": "execute_result"
    },
    {
     "data": {
      "image/png": "[encoded data removed]",
      "text/plain": [
       "<Figure size 640x480 with 1 Axes>"
      ]
     },
     "metadata": {},
     "output_type": "display_data"
    }
   ],
   "source": [
    "import matplotlib.pyplot as plt\n",
    "plt.plot(pred_pitch)"
   ]
  },
  {
   "cell_type": "code",
   "execution_count": null,
   "id": "4af894b2-bb14-479f-8a73-fbf3bd765fc9",
   "metadata": {},
   "outputs": [],
   "source": []
  }
 ],
 "metadata": {
  "kernelspec": {
   "display_name": "Python 3 (ipykernel)",
   "language": "python",
   "name": "python3"
  },
  "language_info": {
   "codemirror_mode": {
    "name": "ipython",
    "version": 3
   },
   "file_extension": ".py",
   "mimetype": "text/x-python",
   "name": "python",
   "nbconvert_exporter": "python",
   "pygments_lexer": "ipython3",
   "version": "3.11.9"
  }
 },
 "nbformat": 4,
 "nbformat_minor": 5
}
