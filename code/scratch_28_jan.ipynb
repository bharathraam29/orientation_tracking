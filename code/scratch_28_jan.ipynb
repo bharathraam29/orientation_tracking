{
 "cells": [
  {
   "cell_type": "code",
   "execution_count": 2,
   "id": "60197e80-732d-4fea-9970-6c3138b2c94f",
   "metadata": {},
   "outputs": [],
   "source": [
    "%load_ext autoreload\n",
    "%autoreload 2"
   ]
  },
  {
   "cell_type": "code",
   "execution_count": 3,
   "id": "ca9ec5e7-50b4-42c2-a7aa-541e1e3e0228",
   "metadata": {},
   "outputs": [],
   "source": [
    "import sys\n",
    "sys.path.insert(0,'/home/bradhakrishnan/ECE276A_PR1/code/')"
   ]
  },
  {
   "cell_type": "code",
   "execution_count": 4,
   "id": "f8831bf2-7d35-42f7-929f-56ddbf3ea2a5",
   "metadata": {},
   "outputs": [],
   "source": [
    "import load_data\n",
    "import os\n",
    "# load_data.read_data()\n",
    "data_base_path= \"/home/bradhakrishnan/ECE276A_PR1/data/\"\n",
    " "
   ]
  },
  {
   "cell_type": "markdown",
   "id": "c77597e3-3080-49e8-a551-d1d74c396f37",
   "metadata": {},
   "source": [
    "# CALIBRATION Tasks \n",
    "\n",
    "1. Figure out how long the setup is static to measure the bias.\n",
    "2. Once bias computed use the Value formula to find the values.\n",
    "3. DONT FORGET TO CONVERT THE UNITS."
   ]
  },
  {
   "cell_type": "code",
   "execution_count": null,
   "id": "61e28211-a104-4b8c-a0db-ccb1f1298b98",
   "metadata": {},
   "outputs": [],
   "source": []
  },
  {
   "cell_type": "code",
   "execution_count": 94,
   "id": "fa998f6e-e127-4723-ad39-31badd90dced",
   "metadata": {},
   "outputs": [
    {
     "name": "stdout",
     "output_type": "stream",
     "text": [
      "Data import took: 0.0023980140686035156 sec.\n",
      "\n"
     ]
    }
   ],
   "source": [
    "import jax\n",
    "import jax.numpy as jnp\n",
    "\n",
    "imud, vicd, camd=load_data.load_dataset(3)\n",
    "vicd_data = jnp.array(vicd['rots'])\n",
    "vicd_ts = jnp.array(vicd['ts'])\n"
   ]
  },
  {
   "cell_type": "code",
   "execution_count": 96,
   "id": "5628afd9-1346-4624-bff6-52f3e1ef3fd8",
   "metadata": {},
   "outputs": [
    {
     "data": {
      "text/plain": [
       "Array([[ 0.9963586 ,  0.08375555, -0.01595546],\n",
       "       [-0.0837184 ,  0.996485  ,  0.00298392],\n",
       "       [ 0.0161493 , -0.00163729,  0.9998683 ]], dtype=float32)"
      ]
     },
     "execution_count": 96,
     "metadata": {},
     "output_type": "execute_result"
    }
   ],
   "source": [
    "find_stationary_end(vicd_data, threshold=0.001, debug=False)\n",
    "vicd_data[:,:, 0]"
   ]
  },
  {
   "cell_type": "code",
   "execution_count": 97,
   "id": "4162fba6-a9be-4340-b8a9-25e2dfdf7dd5",
   "metadata": {},
   "outputs": [
    {
     "data": {
      "text/plain": [
       "Array([[ 0.99635446,  0.08377246, -0.01612229],\n",
       "       [-0.08373666,  0.99648374,  0.00288414],\n",
       "       [ 0.01630722, -0.0015236 ,  0.9998659 ]], dtype=float32)"
      ]
     },
     "execution_count": 97,
     "metadata": {},
     "output_type": "execute_result"
    }
   ],
   "source": [
    "vicd_data[:,:, 1]"
   ]
  },
  {
   "cell_type": "code",
   "execution_count": 108,
   "id": "dcb55c37-e846-4dc6-b31a-f5a04e8e1735",
   "metadata": {
    "scrolled": true
   },
   "outputs": [],
   "source": [
    "def if_rotation_identity(rotation, threshold=0.001, debug=False):\n",
    "    diagonal = jnp.diag(rotation)\n",
    "    if debug:\n",
    "        print(jnp.abs(diagonal - 1.0))\n",
    "    is_diagonal_close_to_one = jnp.all(jnp.abs(diagonal - 1.0) < threshold)\n",
    "    if debug:\n",
    "        print(is_diagonal_close_to_one)\n",
    "    return is_diagonal_close_to_one\n",
    "\n",
    "def find_stationary_end(vicd_data, threshold=0.001, debug=False):\n",
    "    idx=0\n",
    "    while(if_rotation_identity(vicd_data[:,:, idx], threshold, debug=debug)):\n",
    "        idx+=1\n",
    "    if debug:\n",
    "        print(idx)\n",
    "    return idx\n",
    "\n",
    "\n",
    "def get_static_data(vicd_data, vicd_ts, imu_data, indentity_check_threshold=0.001, debug=False):\n",
    "    stationary_end_idx= find_stationary_end(vicd_data, threshold=indentity_check_threshold, debug=debug)\n",
    "    print(\"Number of Static entries:: \", stationary_end_idx)\n",
    "    stationary_start_time= vicd_ts[:,0][0]  \n",
    "    stationary_end_time= vicd_ts[:,stationary_end_idx][0]\n",
    "    static_imu_data=imu_data[:,0:stationary_end_idx]\n",
    "    if stationary_start_time== static_imu_data[0, 0] and stationary_end_time==static_imu_data[0,stationary_end_idx-1]:\n",
    "        print(f\"We might have to match the timestamps :: \\nVidcon start:: {stationary_start_time} \\nIMU start:: {static_imu_data[0, 0]}\" )\n",
    "        print(f\"\\n\\nVidcon end:: {stationary_end_time} \\nIMU end:: {static_imu_data[0, stationary_end_idx-1]}\" )\n",
    "\n",
    "    return static_imu_data"
   ]
  },
  {
   "cell_type": "code",
   "execution_count": 46,
   "id": "b6124da6-d31f-4470-8931-1e9b5e63ebb7",
   "metadata": {},
   "outputs": [],
   "source": []
  },
  {
   "cell_type": "code",
   "execution_count": 168,
   "id": "fb1e09f5-e29b-4875-95ff-e97db45327c3",
   "metadata": {
    "scrolled": true
   },
   "outputs": [
    {
     "name": "stdout",
     "output_type": "stream",
     "text": [
      "Dataset 1 :: \n",
      "\n",
      "Data import took: 0.013324260711669922 sec.\n",
      "\n",
      "Number of Static entries::  1082\n",
      "Dataset 2 :: \n",
      "\n",
      "Data import took: 0.0031211376190185547 sec.\n",
      "\n",
      "Number of Static entries::  902\n",
      "We might have to match the timestamps :: \n",
      "Vidcon start:: 1296637056.0 \n",
      "IMU start:: 1296637056.0\n",
      "\n",
      "\n",
      "Vidcon end:: 1296637184.0 \n",
      "IMU end:: 1296637184.0\n",
      "Dataset 3 :: \n",
      "\n",
      "Data import took: 0.0028536319732666016 sec.\n",
      "\n",
      "Number of Static entries::  618\n",
      "Dataset 4 :: \n",
      "\n",
      "Data import took: 0.0020623207092285156 sec.\n",
      "\n",
      "Number of Static entries::  697\n",
      "Dataset 5 :: \n",
      "\n",
      "Data import took: 0.002074003219604492 sec.\n",
      "\n",
      "Number of Static entries::  503\n",
      "Dataset 6 :: \n",
      "\n",
      "Data import took: 0.0019979476928710938 sec.\n",
      "\n",
      "Number of Static entries::  430\n",
      "Dataset 7 :: \n",
      "\n",
      "Data import took: 0.0022077560424804688 sec.\n",
      "\n",
      "Number of Static entries::  495\n",
      "Dataset 8 :: \n",
      "\n",
      "Data import took: 0.0021140575408935547 sec.\n",
      "\n",
      "Number of Static entries::  748\n",
      "Dataset 9 :: \n",
      "\n",
      "Data import took: 0.001714944839477539 sec.\n",
      "\n",
      "Number of Static entries::  637\n",
      "Bias :: [-511.      -500.       605.1774   373.63895  375.3752   369.64835]\n"
     ]
    }
   ],
   "source": [
    "all_static_data= None\n",
    "for ii in range(1,10):\n",
    "    print(f\"Dataset {ii} :: \\n\")\n",
    "    imud, vicd, camd=load_data.load_dataset(ii)\n",
    "    vicd_data = jnp.array(vicd['rots'])\n",
    "    vicd_ts = jnp.array(vicd['ts'])\n",
    "    static_imu_data= get_static_data(vicd_data, vicd_ts, imu_data, indentity_check_threshold=0.01, debug=False)\n",
    "    if all_static_data is None:\n",
    "        all_static_data=static_imu_data\n",
    "    else:\n",
    "        all_static_data= jnp.concatenate((all_static_data, static_imu_data), axis=1)\n",
    "\n",
    "bias= jnp.mean(static_imu_data[1:, :], axis=1)\n",
    "# we need to manually compute the bias for \n",
    "print(f\"Bias ::\",bias)\n"
   ]
  },
  {
   "cell_type": "code",
   "execution_count": 181,
   "id": "2dd3ae5b-e765-45b8-ae3d-8421de85b1e7",
   "metadata": {},
   "outputs": [],
   "source": [
    "\n",
    "## SENSITIVITY \n",
    "accl_sensitivity_all_axis=300 #mV/g\n",
    "yaw_sensitivity = 3.33*(180/jnp.pi) #mV/ °/s\n",
    "roll_sensitivity = 3.33*(180/jnp.pi)\n",
    "pitch_sensitivity = 3.33*(180/jnp.pi)\n",
    "\n",
    "## REFERENCE VOLTAGES\n",
    "accl_vref= 3.3*1000\n",
    "yaw_vref= 1.23*1000 #z axis\n",
    "roll_vref=1.23*1000 # x axis\n",
    "pitch_vref=1.23*1000 # y axis\n",
    "\n"
   ]
  },
  {
   "cell_type": "code",
   "execution_count": 197,
   "id": "07bf800a-a9fb-498f-9701-ba630e209316",
   "metadata": {},
   "outputs": [],
   "source": [
    "# in the bias list the value we get z axis linear acceleration is basically the measurement for 9.8 m/s( i.e; g) acceleration\n",
    "# so we can mathematically compute the bias using the avg(IMU measurement for 1g)-(1/scale_factor)\n",
    "acc_z_bias= bias[2]- 1/((accl_vref/1023)/accl_sensitivity_all_axis)\n",
    "bias= bias.at[2].set(acc_z_bias)\n",
    "acc_x= (all_static_data[1,:]- bias[0]) * ((accl_vref/1023)/accl_sensitivity_all_axis)\n",
    "acc_y= (all_static_data[2,:]- bias[1]) * ((accl_vref/1023)/accl_sensitivity_all_axis)\n",
    "acc_z= (all_static_data[3,:]- bias[2]) * ((accl_vref/1023)/accl_sensitivity_all_axis)\n",
    "\n",
    "w_x= (all_static_data[4,:]- bias[3]) * ((roll_vref/1023)/roll_sensitivity)\n",
    "w_y= (all_static_data[5,:]- bias[4]) * ((pitch_vref/1023)/pitch_sensitivity)\n",
    "w_z= (all_static_data[6,:]- bias[5]) * ((yaw_vref/1023)/yaw_sensitivity)"
   ]
  },
  {
   "cell_type": "code",
   "execution_count": null,
   "id": "9e16fc0c-d9c3-4ea4-8f88-866e4445dede",
   "metadata": {},
   "outputs": [],
   "source": []
  },
  {
   "cell_type": "markdown",
   "id": "fdaa7384-306f-426e-b1c0-8e819be598f2",
   "metadata": {},
   "source": [
    "# ORIENTATION Tracking\n",
    "\n",
    "MOTION model => qt+1 = f(qt, τtωt) := qt ◦ exp([0, τtωt/2])\n",
    "OBSERVATION model => [0, at] = h(qt) := (qt^-1) ◦ [0, 0, 0, −g] ◦ qt]\n",
    "\n",
    "1. The starting point is q0 = [1, 0, 0, 0],\n",
    "2.  "
   ]
  },
  {
   "cell_type": "code",
   "execution_count": null,
   "id": "0e59ad58-95ec-40e4-aec1-d169c08b7805",
   "metadata": {},
   "outputs": [],
   "source": []
  },
  {
   "cell_type": "code",
   "execution_count": null,
   "id": "bc9c1b12-958a-4ba5-bd1e-24df46ec98d4",
   "metadata": {},
   "outputs": [],
   "source": []
  }
 ],
 "metadata": {
  "kernelspec": {
   "display_name": "Python 3 (ipykernel)",
   "language": "python",
   "name": "python3"
  },
  "language_info": {
   "codemirror_mode": {
    "name": "ipython",
    "version": 3
   },
   "file_extension": ".py",
   "mimetype": "text/x-python",
   "name": "python",
   "nbconvert_exporter": "python",
   "pygments_lexer": "ipython3",
   "version": "3.11.9"
  }
 },
 "nbformat": 4,
 "nbformat_minor": 5
}
