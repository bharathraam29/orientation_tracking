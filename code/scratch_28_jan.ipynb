{
 "cells": [
  {
   "cell_type": "code",
   "execution_count": 6,
   "id": "60197e80-732d-4fea-9970-6c3138b2c94f",
   "metadata": {},
   "outputs": [
    {
     "name": "stdout",
     "output_type": "stream",
     "text": [
      "The autoreload extension is already loaded. To reload it, use:\n",
      "  %reload_ext autoreload\n"
     ]
    }
   ],
   "source": [
    "%load_ext autoreload\n",
    "%autoreload 2"
   ]
  },
  {
   "cell_type": "code",
   "execution_count": 7,
   "id": "ca9ec5e7-50b4-42c2-a7aa-541e1e3e0228",
   "metadata": {},
   "outputs": [],
   "source": [
    "import sys\n",
    "sys.path.insert(0,'/home/bradhakrishnan/ECE276A_PR1/code/')"
   ]
  },
  {
   "cell_type": "code",
   "execution_count": 8,
   "id": "f8831bf2-7d35-42f7-929f-56ddbf3ea2a5",
   "metadata": {},
   "outputs": [],
   "source": [
    "import load_data\n",
    "import os\n",
    "# load_data.read_data()\n",
    "data_base_path= \"/home/bradhakrishnan/ECE276A_PR1/data/\"\n",
    " "
   ]
  },
  {
   "cell_type": "markdown",
   "id": "c77597e3-3080-49e8-a551-d1d74c396f37",
   "metadata": {},
   "source": [
    "# CALIBRATION Tasks \n",
    "\n",
    "1. Figure out how long the setup is static to measure the bias.\n",
    "2. Once bias computed use the Value formula to find the values.\n",
    "3. DONT FORGET TO CONVERT THE UNITS."
   ]
  },
  {
   "cell_type": "code",
   "execution_count": null,
   "id": "72158d8b-21ce-42b5-b1e6-dd20c083377d",
   "metadata": {},
   "outputs": [],
   "source": []
  },
  {
   "cell_type": "code",
   "execution_count": 9,
   "id": "fa998f6e-e127-4723-ad39-31badd90dced",
   "metadata": {},
   "outputs": [
    {
     "name": "stdout",
     "output_type": "stream",
     "text": [
      "Data import took: 0.013691186904907227 sec.\n",
      "\n"
     ]
    }
   ],
   "source": [
    "import jax\n",
    "import jax.numpy as jnp\n",
    "import numpy as np\n",
    "imud, vicd, camd=load_data.load_dataset(1)\n",
    "# vicd_data = jnp.array(vicd['rots'])\n",
    "# vicd_ts = jnp.array(vicd['ts'], dtype=np.float64)\n",
    "vicd_data=vicd['rots']\n",
    "vicd_ts=vicd['ts']\n",
    "imu_data= imud\n",
    "jax.config.update(\"jax_enable_x64\", True)\n"
   ]
  },
  {
   "cell_type": "code",
   "execution_count": 10,
   "id": "dcb55c37-e846-4dc6-b31a-f5a04e8e1735",
   "metadata": {
    "scrolled": true
   },
   "outputs": [],
   "source": [
    "def if_rotation_identity(rotation, threshold=0.001, debug=False):\n",
    "    diagonal = jnp.diag(rotation)\n",
    "    if debug:\n",
    "        print(jnp.abs(diagonal - 1.0))\n",
    "    is_diagonal_close_to_one = jnp.all(jnp.abs(diagonal - 1.0) < threshold)\n",
    "    if debug:\n",
    "        print(is_diagonal_close_to_one)\n",
    "    return is_diagonal_close_to_one\n",
    "\n",
    "def find_stationary_end(vicd_data, threshold=0.001, debug=False):\n",
    "    idx=0\n",
    "    while(if_rotation_identity(vicd_data[:,:, idx], threshold, debug=debug)):\n",
    "        idx+=1\n",
    "    if debug:\n",
    "        print(idx)\n",
    "    return idx\n",
    "\n",
    "\n",
    "def get_static_data(vicd_data, vicd_ts, imu_data, indentity_check_threshold=0.001, debug=False):\n",
    "    stationary_end_idx= find_stationary_end(vicd_data, threshold=indentity_check_threshold, debug=debug)\n",
    "    print(\"Number of Static entries:: \", stationary_end_idx)\n",
    "    stationary_start_time= vicd_ts[:,0][0]  \n",
    "    stationary_end_time= vicd_ts[:,stationary_end_idx][0]\n",
    "    static_imu_data=imu_data[:,0:stationary_end_idx]\n",
    "    # if stationary_start_time== static_imu_data[0, 0] and stationary_end_time==static_imu_data[0,stationary_end_idx-1]:\n",
    "    #     print(f\"We might have to match the timestamps :: \\nVidcon start:: {stationary_start_time} \\nIMU start:: {static_imu_data[0, 0]}\" )\n",
    "    #     print(f\"\\n\\nVidcon end:: {stationary_end_time} \\nIMU end:: {static_imu_data[0, stationary_end_idx-1]}\" )\n",
    "    #     print(stationary_start_time-static_imu_data[0, 0])\n",
    "    #     print(stationary_end_time-static_imu_data[0, stationary_end_idx-1])\n",
    "    return static_imu_data"
   ]
  },
  {
   "cell_type": "code",
   "execution_count": 11,
   "id": "fb1e09f5-e29b-4875-95ff-e97db45327c3",
   "metadata": {
    "scrolled": true
   },
   "outputs": [],
   "source": [
    "def find_bias():\n",
    "    all_static_data= None\n",
    "    for ii in range(1,10):\n",
    "        print(f\"Dataset {ii} :: \\n\")\n",
    "        imud, vicd, camd=load_data.load_dataset(ii)\n",
    "        vicd_data = vicd['rots']\n",
    "        vicd_ts = vicd['ts']\n",
    "        imu_data= imud\n",
    "        static_imu_data= get_static_data(vicd_data, vicd_ts, imu_data, indentity_check_threshold=0.01, debug=False)\n",
    "        if all_static_data is None:\n",
    "            all_static_data=static_imu_data\n",
    "        else:\n",
    "            all_static_data= np.concatenate((all_static_data, static_imu_data), axis=1)\n",
    "    \n",
    "    bias= np.mean(all_static_data[1:, :], axis=1)\n",
    "    # we need to manually compute the bias for \n",
    "    print(f\"Bias ::\",bias)\n",
    "    return bias\n"
   ]
  },
  {
   "cell_type": "code",
   "execution_count": 13,
   "id": "2dd3ae5b-e765-45b8-ae3d-8421de85b1e7",
   "metadata": {
    "scrolled": true
   },
   "outputs": [
    {
     "name": "stdout",
     "output_type": "stream",
     "text": [
      "Dataset 1 :: \n",
      "\n",
      "Data import took: 0.005824565887451172 sec.\n",
      "\n",
      "Number of Static entries::  1082\n",
      "Dataset 2 :: \n",
      "\n",
      "Data import took: 0.005640268325805664 sec.\n",
      "\n",
      "Number of Static entries::  902\n",
      "Dataset 3 :: \n",
      "\n",
      "Data import took: 0.003502368927001953 sec.\n",
      "\n",
      "Number of Static entries::  618\n",
      "Dataset 4 :: \n",
      "\n",
      "Data import took: 0.0030493736267089844 sec.\n",
      "\n",
      "Number of Static entries::  697\n",
      "Dataset 5 :: \n",
      "\n",
      "Data import took: 0.003154754638671875 sec.\n",
      "\n",
      "Number of Static entries::  503\n",
      "Dataset 6 :: \n",
      "\n",
      "Data import took: 0.0031037330627441406 sec.\n",
      "\n",
      "Number of Static entries::  430\n",
      "Dataset 7 :: \n",
      "\n",
      "Data import took: 0.003420591354370117 sec.\n",
      "\n",
      "Number of Static entries::  495\n",
      "Dataset 8 :: \n",
      "\n",
      "Data import took: 0.003409147262573242 sec.\n",
      "\n",
      "Number of Static entries::  748\n",
      "Dataset 9 :: \n",
      "\n",
      "Data import took: 0.003221273422241211 sec.\n",
      "\n",
      "Number of Static entries::  637\n",
      "Bias :: [-511.0872055  -500.94437173  606.54433901  374.07738874  375.6809555\n",
      "  370.13007199]\n"
     ]
    }
   ],
   "source": [
    "bias= find_bias()"
   ]
  },
  {
   "cell_type": "code",
   "execution_count": 32,
   "id": "07bf800a-a9fb-498f-9701-ba630e209316",
   "metadata": {},
   "outputs": [],
   "source": [
    "# in the bias list the value we get z axis linear acceleration is basically the measurement for 9.8 m/s( i.e; g) acceleration\n",
    "# so we can mathematically compute the bias using the avg(IMU measurement for 1g)-(1/scale_factor)\n",
    "\n",
    "# acc_z_bias= bias[2]- (1/((accl_vref/1023)/accl_sensitivity_all_axis))\n",
    "# bias= bias.at[2].set(acc_z_bias)\n",
    "# acc_x= (all_static_data[1,:]- bias[0]) * ((accl_vref/1023)/accl_sensitivity_all_axis)\n",
    "# acc_y= (all_static_data[2,:]- bias[1]) * ((accl_vref/1023)/accl_sensitivity_all_axis)\n",
    "# acc_z= (all_static_data[3,:]- bias[2]) * ((accl_vref/1023)/accl_sensitivity_all_axis)\n",
    "\n",
    "# w_x= (all_static_data[4,:]- bias[3]) * ((roll_vref/1023)/roll_sensitivity)\n",
    "# w_y= (all_static_data[5,:]- bias[4]) * ((pitch_vref/1023)/pitch_sensitivity)\n",
    "# w_z= (all_static_data[6,:]- bias[5]) * ((yaw_vref/1023)/yaw_sensitivity)"
   ]
  },
  {
   "cell_type": "code",
   "execution_count": 36,
   "id": "965a988d-6cea-4a03-a905-eec594178090",
   "metadata": {},
   "outputs": [
    {
     "data": {
      "text/plain": [
       "(514.0, Array(142.79596, dtype=float32))"
      ]
     },
     "execution_count": 36,
     "metadata": {},
     "output_type": "execute_result"
    }
   ],
   "source": []
  },
  {
   "cell_type": "code",
   "execution_count": 25,
   "id": "9e16fc0c-d9c3-4ea4-8f88-866e4445dede",
   "metadata": {},
   "outputs": [],
   "source": [
    "def get_calibrated_IMU_data(bias):\n",
    "    ## SENSITIVITY \n",
    "    accl_sensitivity_all_axis=300 #mV/g\n",
    "    yaw_sensitivity = 3.33*(180/jnp.pi) #mV/ °/s\n",
    "    roll_sensitivity = 3.33*(180/jnp.pi)\n",
    "    pitch_sensitivity = 3.33*(180/jnp.pi)\n",
    "    \n",
    "    ## REFERENCE VOLTAGES\n",
    "    accl_vref= 3.3*1000\n",
    "    yaw_vref= 3.3*1000 #z axis\n",
    "    roll_vref=3.3*1000 # x axis\n",
    "    pitch_vref=3.3*1000 # y axis\n",
    "    \n",
    "    for ii in range(1,10):\n",
    "        print(f\"Dataset {ii} :: \\n\")\n",
    "        imud, vicd, camd=load_data.load_dataset(ii)\n",
    "        # vicd_data = jnp.array(vicd['rots'])\n",
    "        # vicd_ts = jnp.array(vicd['ts'])\n",
    "        # imu_data= jnp.array(imud)\n",
    "        \n",
    "        vicd_data = vicd['rots']\n",
    "        vicd_ts = vicd['ts']\n",
    "        imu_data= imud\n",
    "        \n",
    "        # in the bias list the value we get z axis linear acceleration is basically the measurement for 9.8 m/s( i.e; g) acceleration\n",
    "        # so we can mathematically compute the bias using the avg(IMU measurement for 1g)-(1/scale_factor)\n",
    "        acc_z_bias= bias[2]- 1/((accl_vref/1023)/accl_sensitivity_all_axis)\n",
    "        # bias= bias.at[2].set(acc_z_bias)\n",
    "        bias[2]=acc_z_bias\n",
    "\n",
    "        \n",
    "        \n",
    "        acc_x= (imu_data[1,:]- bias[0]) * ((accl_vref/1023)/accl_sensitivity_all_axis)\n",
    "        acc_y= (imu_data[2,:]- bias[1]) * ((accl_vref/1023)/accl_sensitivity_all_axis)\n",
    "        acc_z= (imu_data[3,:]- bias[2]) * ((accl_vref/1023)/accl_sensitivity_all_axis)\n",
    "        \n",
    "        w_x= (imu_data[4,:]- bias[3]) * ((roll_vref/1023)/roll_sensitivity)\n",
    "        w_y= (imu_data[5,:]- bias[4]) * ((pitch_vref/1023)/pitch_sensitivity)\n",
    "        w_z= (imu_data[6,:]- bias[5]) * ((yaw_vref/1023)/yaw_sensitivity)\n",
    "    \n",
    "        # Preserve the 0th row from imu_data\n",
    "        calibrated_imu = np.zeros_like(imu_data)\n",
    "        \n",
    "        # # Set the 0th row\n",
    "        # calibrated_imu = calibrated_imu.at[0, :].set(imu_data[0, :])\n",
    "        \n",
    "        # # Set the computed acceleration and angular velocity values\n",
    "        # calibrated_imu = calibrated_imu.at[1, :].set(acc_x)\n",
    "        # calibrated_imu = calibrated_imu.at[2, :].set(acc_y)\n",
    "        # calibrated_imu = calibrated_imu.at[3, :].set(acc_z)\n",
    "        # calibrated_imu = calibrated_imu.at[4, :].set(w_x)\n",
    "        # calibrated_imu = calibrated_imu.at[5, :].set(w_y)\n",
    "        # calibrated_imu = calibrated_imu.at[6, :].set(w_z)\n",
    "    \n",
    "        # Set the 0th row\n",
    "        calibrated_imu[0, :] = imu_data[0, :]\n",
    "        \n",
    "        # Set the computed acceleration and angular velocity values\n",
    "        calibrated_imu[1, :] = acc_x\n",
    "        calibrated_imu[2, :] = acc_y\n",
    "        calibrated_imu[3, :] = acc_z\n",
    "        calibrated_imu[4, :] = w_x\n",
    "        calibrated_imu[5, :] = w_y\n",
    "        calibrated_imu[6, :] = w_z\n",
    "        break\n",
    "    return calibrated_imu\n",
    "\n",
    "\n",
    "def calibrate_v2(bias):\n",
    "    ## SENSITIVITY \n",
    "    accl_sensitivity_all_axis=300 #mV/g\n",
    "    yaw_sensitivity = 3.33*(180/jnp.pi) #mV/ °/s\n",
    "    roll_sensitivity = 3.33*(180/jnp.pi)\n",
    "    pitch_sensitivity = 3.33*(180/jnp.pi)\n",
    "    \n",
    "    ## REFERENCE VOLTAGES\n",
    "    accl_vref= 3.3*1000\n",
    "    yaw_vref= 3.3*1000 #z axis\n",
    "    roll_vref=3.3*1000 # x axis\n",
    "    pitch_vref=3.3*1000 # y axis\n",
    "    \n",
    "    for ii in range(1,10):\n",
    "        print(f\"Dataset {ii} :: \\n\")\n",
    "        imud, vicd, camd=load_data.load_dataset(ii)\n",
    "        # vicd_data = jnp.array(vicd['rots'])\n",
    "        # vicd_ts = jnp.array(vicd['ts'])\n",
    "        # imu_data= jnp.array(imud)\n",
    "        \n",
    "        vicd_data = vicd['rots']\n",
    "        vicd_ts = vicd['ts']\n",
    "        imu_data= imud\n",
    "    \n",
    "        \n",
    "        # in the bias list the value we get z axis linear acceleration is basically the measurement for 9.8 m/s( i.e; g) acceleration\n",
    "        # so we can mathematically compute the bias using the avg(IMU measurement for 1g)-(1/scale_factor)\n",
    "        acc_z_bias= bias[2]- 1/((accl_vref/1023)/accl_sensitivity_all_axis)\n",
    "        # bias= bias.at[2].set(acc_z_bias)\n",
    "        bias[2]=acc_z_bias\n",
    "        # Compute scaling factors\n",
    "        accl_factor = (accl_vref / 1023) / accl_sensitivity_all_axis\n",
    "        gyro_factors = np.array([\n",
    "            (roll_vref / 1023) / roll_sensitivity,\n",
    "            (pitch_vref / 1023) / pitch_sensitivity,\n",
    "            (yaw_vref / 1023) / yaw_sensitivity\n",
    "        ])\n",
    "        \n",
    "        # Calibrate acceleration and angular velocity using vectorized operations\n",
    "        calibrated_imu = np.zeros_like(imu_data)\n",
    "        calibrated_imu[0, :] = imu_data[0, :]  # Preserve the 0th row\n",
    "        \n",
    "        # Apply bias correction and scaling in one step\n",
    "        calibrated_imu[1:4, :] = (imu_data[1:4, :] - bias[:3, np.newaxis]) * accl_factor\n",
    "        calibrated_imu[4:7, :] = (imu_data[4:7, :] - bias[3:, np.newaxis]) * gyro_factors[:, np.newaxis]\n",
    "        break\n",
    "    return calibrated_imu"
   ]
  },
  {
   "cell_type": "code",
   "execution_count": 26,
   "id": "d0e7e939-0fcd-4e00-b31e-f6531e4657df",
   "metadata": {
    "scrolled": true
   },
   "outputs": [
    {
     "name": "stdout",
     "output_type": "stream",
     "text": [
      "Dataset 1 :: \n",
      "\n",
      "Data import took: 0.005307674407958984 sec.\n",
      "\n"
     ]
    }
   ],
   "source": [
    "# calibrated_imu=get_calibrated_IMU_data(bias)\n",
    "calibrated_imu=calibrate_v2(bias)\n"
   ]
  },
  {
   "cell_type": "markdown",
   "id": "fdaa7384-306f-426e-b1c0-8e819be598f2",
   "metadata": {},
   "source": [
    "# ORIENTATION Tracking\n",
    "\n",
    "MOTION model => qt+1 = f(qt, τtωt) := qt ◦ exp([0, τtωt/2])\n",
    "\n",
    "OBSERVATION model => [0, at] = h(qt) := (qt^-1) ◦ [0, 0, 0, −g] ◦ qt]\n",
    "\n",
    "1. The starting point is q0 = [1, 0, 0, 0],\n",
    "2. Find qt+1 = f(qt, τtωt) := qt ◦ exp([0, τtωt/2])"
   ]
  },
  {
   "cell_type": "code",
   "execution_count": 16,
   "id": "0e59ad58-95ec-40e4-aec1-d169c08b7805",
   "metadata": {},
   "outputs": [
    {
     "data": {
      "text/plain": [
       "(4,)"
      ]
     },
     "execution_count": 16,
     "metadata": {},
     "output_type": "execute_result"
    }
   ],
   "source": [
    "q0 =jnp.array([1, 0, 0, 0])\n",
    "calibrated_imu.shape[1]\n",
    "q0.shape\n"
   ]
  },
  {
   "cell_type": "code",
   "execution_count": 12,
   "id": "de53dc4c-7df6-4d0a-a5cc-48b13828a050",
   "metadata": {},
   "outputs": [],
   "source": []
  },
  {
   "cell_type": "code",
   "execution_count": 22,
   "id": "bc9c1b12-958a-4ba5-bd1e-24df46ec98d4",
   "metadata": {
    "scrolled": true
   },
   "outputs": [],
   "source": [
    "import transforms3d as t3d\n",
    "from tqdm import tqdm\n",
    "prev_q=jnp.asarray(q0)\n",
    "pred_qts= jnp.asarray([prev_q])\n",
    "for sample_idx in range(0,calibrated_imu.shape[1]-1):\n",
    "    del_t= (imu_data[0,sample_idx+1]- imu_data[0,sample_idx])*0.5\n",
    "    w_vec=jnp.array(calibrated_imu[4:,sample_idx])\n",
    "    exp_term = jnp.concatenate((jnp.array([0]), w_vec*del_t), axis=0)\n",
    "    curr_q= t3d.quaternions.qmult(prev_q,t3d.quaternions.qexp(exp_term))\n",
    "    pred_qts.append(jnp.asarray(curr_q/jnp.linalg.norm(curr_q)))\n",
    "    prev_q=curr_q\n",
    "    # h(qt) compute\n",
    "    curr_q_inv= t3d.quaternions.qinverse(curr_q) \n",
    "    temp=t3d.quaternions.qmult(curr_q_inv, jnp.array([0,0,0,-1]))\n",
    "    h_qt=t3d.quaternions.qmult(temp, curr_q)\n",
    "    \n",
    "pred_qts = jnp.column_stack(pred_qts)\n"
   ]
  },
  {
   "cell_type": "code",
   "execution_count": 45,
   "id": "d0e259d0-ce50-4d5a-9d04-a53930abde32",
   "metadata": {},
   "outputs": [],
   "source": [
    "pred_qts= jnp.asarray([prev_q])\n"
   ]
  },
  {
   "cell_type": "code",
   "execution_count": 49,
   "id": "d074aca5-8d16-4536-8386-39d45d6e4b77",
   "metadata": {},
   "outputs": [
    {
     "data": {
      "text/plain": [
       "Array(0.0100049, dtype=float64)"
      ]
     },
     "execution_count": 49,
     "metadata": {},
     "output_type": "execute_result"
    }
   ],
   "source": [
    "jnp.diff(imu_data[0, :]).mean()\n"
   ]
  },
  {
   "cell_type": "code",
   "execution_count": 77,
   "id": "ab64cd09-fecb-440d-937d-53838c6c7609",
   "metadata": {},
   "outputs": [
    {
     "data": {
      "text/plain": [
       "Array([1., 0., 0., 0.], dtype=float64)"
      ]
     },
     "execution_count": 77,
     "metadata": {},
     "output_type": "execute_result"
    }
   ],
   "source": [
    "pred_qts[:,0]"
   ]
  },
  {
   "cell_type": "code",
   "execution_count": 27,
   "id": "913e2899-e39a-4e46-af6e-ac8b22bc82db",
   "metadata": {
    "scrolled": true
   },
   "outputs": [],
   "source": [
    "import transforms3d as t3d\n",
    "from tqdm import tqdm\n",
    "prev_q=jnp.asarray(q0)\n",
    "pred_qts= [prev_q]\n",
    "for sample_idx in range(0,calibrated_imu.shape[1]):\n",
    "    del_t= (imu_data[0,sample_idx]- imu_data[0,sample_idx-1])*0.5 if sample_idx else 0.0100049*0.5\n",
    "    w_vec=jnp.array(calibrated_imu[4:,sample_idx])\n",
    "    exp_term = jnp.concatenate((jnp.array([0]), w_vec*del_t), axis=0)\n",
    "\n",
    "    curr_q= t3d.quaternions.qmult(pred_qts[sample_idx],t3d.quaternions.qexp(exp_term))\n",
    "    pred_qts.append(curr_q)\n",
    "        \n",
    "pred_qts= jnp.column_stack(pred_qts)"
   ]
  },
  {
   "cell_type": "markdown",
   "id": "c6ca2b54-6734-48b2-bbac-f5ffb6cfc835",
   "metadata": {},
   "source": [
    "# random_shit"
   ]
  },
  {
   "cell_type": "code",
   "execution_count": 32,
   "id": "16eaacae-1c0a-4233-9ca5-2a0093e68d5c",
   "metadata": {},
   "outputs": [],
   "source": [
    "gt_roll=[0]* vicd_data.shape[-1]\n",
    "gt_pitch=[0]* vicd_data.shape[-1]\n",
    "gt_yaw=[0]* vicd_data.shape[-1]\n",
    "pred_roll=[0]* imu_data.shape[-1]\n",
    "pred_pitch=[0]* imu_data.shape[-1] \n",
    "pred_yaw =[0]* imu_data.shape[-1]\n",
    "\n",
    "\n",
    "for idx in range(vicd_data.shape[-1]):    \n",
    "    gt_roll[idx] , gt_pitch[idx] , gt_yaw[idx] =t3d.euler.mat2euler(vicd_data[:,:, idx], 'sxyz')\n",
    "    pred_roll[idx], pred_pitch[idx], pred_yaw[idx] = t3d.euler.mat2euler(t3d.quaternions.quat2mat(a[:,idx]), 'sxyz')"
   ]
  },
  {
   "cell_type": "code",
   "execution_count": null,
   "id": "524fd18d-973c-4339-9bea-d32240c82298",
   "metadata": {},
   "outputs": [],
   "source": []
  },
  {
   "cell_type": "code",
   "execution_count": 33,
   "id": "20a91268-91aa-4169-a2f6-d00a8c7474bb",
   "metadata": {},
   "outputs": [],
   "source": []
  },
  {
   "cell_type": "code",
   "execution_count": 38,
   "id": "2816ebc7-19c8-41c6-b2e2-cf4dcf890e30",
   "metadata": {},
   "outputs": [
    {
     "data": {
      "image/png": "[encoded data removed]",
      "text/plain": [
       "<Figure size 800x600 with 1 Axes>"
      ]
     },
     "metadata": {},
     "output_type": "display_data"
    }
   ],
   "source": [
    "import matplotlib.pyplot as plt\n",
    "# Create a figure and axis\n",
    "plt.figure(figsize=(8, 6))\n",
    "\n",
    "# Plot a line graph\n",
    "plt.plot(gt_yaw, label='gt', color='blue')\n",
    "# plt.plot(pred_pitch, label='pred', color='red')\n",
    "\n",
    "# Adding title and labels\n",
    "plt.title('Line Graph Example')\n",
    "plt.xlabel('x')\n",
    "plt.ylabel('y')\n",
    "\n",
    "# Adding a legend\n",
    "plt.legend()\n",
    "\n",
    "# Show the plot\n",
    "plt.grid(True)\n",
    "plt.show()"
   ]
  },
  {
   "cell_type": "markdown",
   "id": "908d20e5-37a3-4e94-afc1-e2a357c793fd",
   "metadata": {},
   "source": [
    "# Time Sync"
   ]
  },
  {
   "cell_type": "code",
   "execution_count": 34,
   "id": "c1d83a29-2479-4c4c-8275-484655ac209c",
   "metadata": {},
   "outputs": [],
   "source": [
    "import numpy as np\n",
    "\n",
    "def find_closest_older_vidcon(imu_timestamps, vidcon_timestamps):\n",
    "    indices = np.searchsorted(vidcon_timestamps, imu_timestamps, side='right') - 1\n",
    "    indices = np.clip(indices, 0, len(vidcon_timestamps) - 1)  # Ensure index is valid\n",
    "    return vidcon_timestamps[indices], indices\n",
    "\n",
    "imu_timestamps = calibrated_imu[0,:]  # IMU time series\n",
    "vidcon_timestamps =  vicd_ts[0] # Vidcon time series\n",
    "\n",
    "closest_vidcon, closest_idxs = find_closest_older_vidcon(imu_timestamps, vidcon_timestamps)\n",
    "\n",
    "synced_vicd_data = vicd_data[:, :, closest_idxs]\n",
    "vicd_quaternions = np.array([t3d.quaternions.mat2quat(synced_vicd_data[:, :, i]) for i in range(synced_vicd_data.shape[2])]).T\n"
   ]
  },
  {
   "cell_type": "markdown",
   "id": "e82f3572-1c49-4909-ba8c-d2b487398b7b",
   "metadata": {},
   "source": [
    "# Grad Descent"
   ]
  },
  {
   "cell_type": "markdown",
   "id": "765a40f8-cc54-45b9-ac7e-70ca2aa797ea",
   "metadata": {},
   "source": [
    "## WTF Is cost func"
   ]
  },
  {
   "cell_type": "code",
   "execution_count": 30,
   "id": "684e7b0d-686d-4acc-86d4-cdf1b5ef8e66",
   "metadata": {},
   "outputs": [
    {
     "data": {
      "text/plain": [
       "Array([[ 1.00000000e+00,  9.99999988e-01,  9.99999987e-01, ...,\n",
       "         9.88128804e-01,  9.88110787e-01,  9.88109838e-01],\n",
       "       [-6.41843540e-06, -1.00267361e-04, -1.06531568e-04, ...,\n",
       "        -1.47562109e-01, -1.47654290e-01, -1.47656351e-01],\n",
       "       [ 2.64607802e-05,  5.42517315e-05, -8.10434541e-07, ...,\n",
       "        -4.10223545e-02, -4.10966000e-02, -4.10848373e-02],\n",
       "       [-1.07878565e-05, -1.09221179e-04, -1.19732889e-04, ...,\n",
       "        -1.20024135e-02, -1.20976457e-02, -1.21895638e-02]],      dtype=float64)"
      ]
     },
     "execution_count": 30,
     "metadata": {},
     "output_type": "execute_result"
    }
   ],
   "source": [
    "pred_qts[:, :-1].shape\n",
    "pred_qts[:,1:]."
   ]
  },
  {
   "cell_type": "code",
   "execution_count": null,
   "id": "90a06e71-99fa-4742-b897-efff90e43a7c",
   "metadata": {},
   "outputs": [],
   "source": [
    "    \n",
    "jnp.concatenate((jnp.array([0]), w_vec*del_t), axis=0)"
   ]
  },
  {
   "cell_type": "code",
   "execution_count": 28,
   "id": "415132f8-bf76-4dcf-9675-d56f1636e988",
   "metadata": {
    "scrolled": true
   },
   "outputs": [],
   "source": [
    "import quaternion_ops as qops\n",
    "\n",
    "def compute_rot_error(qt_1, qt):\n",
    "    return  4 * ((jnp.linalg.norm(qops.qlog(qops.qmult(qops.qinverse(qt_1), qt))))**2)\n",
    "\n",
    "def compute_pos_error(qt, acc_vec):\n",
    "    h_qt=qops.qmult(qops.qmult(qops.qinverse(qt) , jnp.array([0,0,0,1])), qt)\n",
    "    return jnp.linalg.norm(jnp.concatenate((jnp.array([0]), acc_vec), axis=0)-h_qt)**2\n",
    "\n",
    "\n",
    "rot_error_vec = jax.vmap(compute_rot_error, in_axes=(1, 1))\n",
    "pos_error_vec= jax.vmap(compute_pos_error, in_axes=(1,1))\n",
    "\n",
    "def cost(pred_qts,calibrated_imu, rot_error_vec = jax.vmap(compute_rot_error, in_axes=(1, 1)),\n",
    "pos_error_vec= jax.vmap(compute_pos_error, in_axes=(1))):\n",
    "    \n",
    "    cost_op=(rot_error_vec(pred_qts[:, :-1], pred_qts[:, 1:]).sum()+pos_error_vec(pred_qts[:, 1:],jnp.array(calibrated_imu[1:4,:])).sum())*0.5\n",
    "    return cost_op\n",
    "\n"
   ]
  },
  {
   "cell_type": "code",
   "execution_count": 29,
   "id": "ac7b13b4-fca1-4319-913e-8f413e1649bb",
   "metadata": {},
   "outputs": [],
   "source": [
    "def check_threshold(pred_qts, new_qts, threshold=1e-6, percentage=0.8):\n",
    "    diff = jnp.linalg.norm(pred_qts - new_qts, axis=0)  # Compute difference for each element\n",
    "    below_threshold = diff < threshold  # Boolean mask where difference is below threshold\n",
    "    ratio = jnp.mean(below_threshold)  # Compute the fraction of elements below the threshold\n",
    "    return ratio >= percentage  # Return True if at least 80% of elements meet the condition\n"
   ]
  },
  {
   "cell_type": "code",
   "execution_count": 30,
   "id": "709f89f8-cf92-4013-b705-aff554d2c2bf",
   "metadata": {},
   "outputs": [],
   "source": [
    "from tqdm import tqdm\n",
    "def compute_new_preds(q, grad):\n",
    "    new_q= q-(grad)\n",
    "    return new_q/ jnp.linalg.norm(new_q)\n",
    "    \n",
    "    \n",
    "def projected_grad_descent(pred_qts,calibrated_imu, step_size=1, epochs=2, stopping_criteria=0.001):\n",
    "    new_pred_vec=jax.vmap(compute_new_preds)\n",
    "    initial_step=step_size\n",
    "    decay_rate=0.01\n",
    "    for epoch in tqdm(range(epochs)):\n",
    "        grad=jax.jacrev(cost)(pred_qts,calibrated_imu) *step_size\n",
    "        new_qts=new_pred_vec(pred_qts, grad, )\n",
    "        # if check_threshold(pred_qts, new_qts):\n",
    "        #     print(\"Stopped at epoch:: \", epoch)\n",
    "        #     return new_qts\n",
    "        pred_qts= new_qts\n",
    "        step_size = initial_step / (1 + decay_rate * epoch)\n",
    "       \n",
    "    return pred_qts\n"
   ]
  },
  {
   "cell_type": "code",
   "execution_count": 31,
   "id": "5ccd2bab-518d-406d-abe0-e38e3b783e59",
   "metadata": {},
   "outputs": [
    {
     "name": "stderr",
     "output_type": "stream",
     "text": [
      "100%|██████████| 1000/1000 [02:09<00:00,  7.73it/s]\n"
     ]
    }
   ],
   "source": [
    "a=projected_grad_descent(pred_qts,calibrated_imu,step_size=0.01, epochs=1000, stopping_criteria=0.001)"
   ]
  },
  {
   "cell_type": "code",
   "execution_count": 21,
   "id": "41b19f09-137c-4459-bf9e-f69ed76e3395",
   "metadata": {},
   "outputs": [
    {
     "data": {
      "text/plain": [
       "Array([[ 6.89870807e-02,  3.06061001e-07,  2.64652006e-07, ...,\n",
       "         1.92589918e-02,  1.92483069e-02,  1.92489973e-02],\n",
       "       [ 7.18617580e-03, -5.17895727e-10,  3.06963274e-09, ...,\n",
       "        -2.28801665e-02, -2.29061947e-02, -2.28681294e-02],\n",
       "       [-1.17235097e-01, -4.56389808e-09, -5.99592431e-08, ...,\n",
       "        -1.78023177e-02, -1.77654049e-02, -1.78151504e-02],\n",
       "       [ 3.94659707e-02,  1.15527198e-08,  2.73085952e-08, ...,\n",
       "        -8.56738497e-03, -8.56467000e-03, -8.59433213e-03]],      dtype=float64)"
      ]
     },
     "execution_count": 21,
     "metadata": {},
     "output_type": "execute_result"
    }
   ],
   "source": [
    "a.device_buffer.device()"
   ]
  },
  {
   "cell_type": "code",
   "execution_count": null,
   "id": "55ae2e32-9da5-4f00-ac16-00dec1e82419",
   "metadata": {},
   "outputs": [],
   "source": []
  }
 ],
 "metadata": {
  "kernelspec": {
   "display_name": "Python 3 (ipykernel)",
   "language": "python",
   "name": "python3"
  },
  "language_info": {
   "codemirror_mode": {
    "name": "ipython",
    "version": 3
   },
   "file_extension": ".py",
   "mimetype": "text/x-python",
   "name": "python",
   "nbconvert_exporter": "python",
   "pygments_lexer": "ipython3",
   "version": "3.11.9"
  }
 },
 "nbformat": 4,
 "nbformat_minor": 5
}
