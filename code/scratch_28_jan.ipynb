{
 "cells": [
  {
   "cell_type": "code",
   "execution_count": 1,
   "id": "60197e80-732d-4fea-9970-6c3138b2c94f",
   "metadata": {},
   "outputs": [],
   "source": [
    "%load_ext autoreload\n",
    "%autoreload 2"
   ]
  },
  {
   "cell_type": "code",
   "execution_count": 2,
   "id": "ca9ec5e7-50b4-42c2-a7aa-541e1e3e0228",
   "metadata": {},
   "outputs": [],
   "source": [
    "import sys\n",
    "sys.path.insert(0,'/home/bradhakrishnan/ECE276A_PR1/code/')"
   ]
  },
  {
   "cell_type": "code",
   "execution_count": 6,
   "id": "f8831bf2-7d35-42f7-929f-56ddbf3ea2a5",
   "metadata": {},
   "outputs": [],
   "source": [
    "import load_data\n",
    "import os\n",
    "# load_data.read_data()\n",
    "data_base_path= \"/home/bradhakrishnan/ECE276A_PR1/data/\"\n",
    " "
   ]
  },
  {
   "cell_type": "code",
   "execution_count": 10,
   "id": "4cc07db5-9e2b-4eda-95a3-98f9881e87f4",
   "metadata": {},
   "outputs": [
    {
     "name": "stdout",
     "output_type": "stream",
     "text": [
      "Data import took: 0.01206827163696289 sec.\n",
      "\n"
     ]
    }
   ],
   "source": [
    "imud, vicd, camd=load_data.load_dataset(1)"
   ]
  },
  {
   "cell_type": "code",
   "execution_count": 16,
   "id": "c26074a4-5537-4f8a-b17b-705a914c993a",
   "metadata": {},
   "outputs": [
    {
     "data": {
      "text/plain": [
       "numpy.ndarray"
      ]
     },
     "execution_count": 16,
     "metadata": {},
     "output_type": "execute_result"
    }
   ],
   "source": [
    "type(imud)"
   ]
  },
  {
   "cell_type": "code",
   "execution_count": 21,
   "id": "61e28211-a104-4b8c-a0db-ccb1f1298b98",
   "metadata": {},
   "outputs": [
    {
     "data": {
      "text/plain": [
       "(3, 5561)"
      ]
     },
     "execution_count": 21,
     "metadata": {},
     "output_type": "execute_result"
    }
   ],
   "source": [
    "vicd['rots'][0].shape"
   ]
  }
 ],
 "metadata": {
  "kernelspec": {
   "display_name": "Python 3 (ipykernel)",
   "language": "python",
   "name": "python3"
  },
  "language_info": {
   "codemirror_mode": {
    "name": "ipython",
    "version": 3
   },
   "file_extension": ".py",
   "mimetype": "text/x-python",
   "name": "python",
   "nbconvert_exporter": "python",
   "pygments_lexer": "ipython3",
   "version": "3.11.9"
  }
 },
 "nbformat": 4,
 "nbformat_minor": 5
}
